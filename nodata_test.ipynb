{
 "cells": [
  {
   "cell_type": "code",
   "execution_count": 2,
   "id": "bb519071",
   "metadata": {},
   "outputs": [],
   "source": [
    "import openeo\n",
    "from "
   ]
  },
  {
   "cell_type": "code",
   "execution_count": 3,
   "id": "c97fa59c",
   "metadata": {},
   "outputs": [
    {
     "name": "stdout",
     "output_type": "stream",
     "text": [
      "Authenticated using refresh token.\n"
     ]
    },
    {
     "data": {
      "text/plain": [
       "{'info': {'oidc_userinfo': {'email': 'valentina.premier@eurac.edu',\n",
       "   'email_verified': True,\n",
       "   'family_name': 'Premier',\n",
       "   'given_name': 'Valentina',\n",
       "   'name': 'Valentina Premier',\n",
       "   'preferred_username': 'valentina.premier@eurac.edu',\n",
       "   'sub': '1aa67f75-e178-495e-a131-9f7dffaaae18'}},\n",
       " 'name': 'Valentina Premier',\n",
       " 'user_id': '1aa67f75-e178-495e-a131-9f7dffaaae18'}"
      ]
     },
     "execution_count": 3,
     "metadata": {},
     "output_type": "execute_result"
    }
   ],
   "source": [
    "eoconn = openeo.connect('https://openeo.dataspace.copernicus.eu/', auto_validate=False)\n",
    "eoconn.authenticate_oidc()\n",
    "\n",
    "eoconn.describe_account()"
   ]
  },
  {
   "cell_type": "code",
   "execution_count": 7,
   "id": "1a1f8bac",
   "metadata": {},
   "outputs": [],
   "source": [
    "s2_bands = eoconn.load_collection(\n",
    "    \"SENTINEL2_L2A\",\n",
    "    spatial_extent={'west':10.65,\n",
    "                    'east':11.1,\n",
    "                    'south':46.55,\n",
    "                    'north':46.8,\n",
    "                    'crs':4326},\n",
    "    bands=['B03','B11'],\n",
    "    temporal_extent=['2023-08-02', '2023-08-15'],\n",
    ")\n",
    "\n",
    "scl = eoconn.load_collection(\n",
    "    \"SENTINEL2_L2A\",\n",
    "    spatial_extent={'west':10.65,\n",
    "                    'east':11.1,\n",
    "                    'south':46.55,\n",
    "                    'north':46.8,\n",
    "                    'crs':4326},\n",
    "    bands=['SCL'],\n",
    "    temporal_extent=['2023-08-02', '2023-08-15'],\n",
    ")"
   ]
  },
  {
   "cell_type": "code",
   "execution_count": 8,
   "id": "17e72f8e",
   "metadata": {},
   "outputs": [],
   "source": [
    "s2_cal = s2_bands.apply(lambda x: 0.0001 * x)  \n",
    "\n",
    "cloud_mask = calculate_cloud_mask(scl)\n",
    "\n",
    "s2_masked = s2_bands.mask(cloud_mask_tmp)\n",
    "ndsi = calculate_ndsi(s2_masked)\n",
    "scf = salomonson(ndsi)"
   ]
  },
  {
   "cell_type": "code",
   "execution_count": null,
   "id": "6ee5135f",
   "metadata": {},
   "outputs": [],
   "source": []
  }
 ],
 "metadata": {
  "kernelspec": {
   "display_name": "Python 3 (ipykernel)",
   "language": "python",
   "name": "python3"
  },
  "language_info": {
   "codemirror_mode": {
    "name": "ipython",
    "version": 3
   },
   "file_extension": ".py",
   "mimetype": "text/x-python",
   "name": "python",
   "nbconvert_exporter": "python",
   "pygments_lexer": "ipython3",
   "version": "3.10.12"
  }
 },
 "nbformat": 4,
 "nbformat_minor": 5
}
