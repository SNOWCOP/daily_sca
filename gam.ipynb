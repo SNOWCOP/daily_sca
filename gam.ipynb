{
 "cells": [
  {
   "cell_type": "markdown",
   "id": "24ff4656",
   "metadata": {},
   "source": [
    "Features to use for training the model:\n",
    "- DEM, slope and aspect\n",
    "- NDSI\n",
    "- date (doy)\n",
    "- global snow cover\n",
    "\n",
    "Selezionare punti random (1000 punti) e prendere su tutte le feature"
   ]
  }
 ],
 "metadata": {
  "kernelspec": {
   "display_name": "Python 3 (ipykernel)",
   "language": "python",
   "name": "python3"
  },
  "language_info": {
   "codemirror_mode": {
    "name": "ipython",
    "version": 3
   },
   "file_extension": ".py",
   "mimetype": "text/x-python",
   "name": "python",
   "nbconvert_exporter": "python",
   "pygments_lexer": "ipython3",
   "version": "3.10.12"
  }
 },
 "nbformat": 4,
 "nbformat_minor": 5
}
